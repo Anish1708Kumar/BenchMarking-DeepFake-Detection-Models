{
 "cells": [
  {
   "cell_type": "code",
   "execution_count": 33,
   "id": "initial_id",
   "metadata": {
    "ExecuteTime": {
     "end_time": "2025-07-03T05:05:24.513604Z",
     "start_time": "2025-07-03T05:05:24.501611Z"
    },
    "collapsed": true
   },
   "outputs": [],
   "source": [
    "# Cell 1: Imports\n",
    "import os\n",
    "import glob\n",
    "from PIL import Image\n",
    "import torch\n",
    "import torch.nn as nn\n",
    "import torchvision.transforms as transforms\n",
    "from torch.utils.data import Dataset, DataLoader\n",
    "from sklearn.metrics import roc_auc_score, roc_curve\n",
    "import matplotlib.pyplot as plt\n",
    "import numpy as np\n",
    "from tqdm import tqdm\n",
    "import timm  # Pretrained models including EfficientNet\n",
    "import glob\n"
   ]
  },
  {
   "cell_type": "code",
   "execution_count": 10,
   "id": "b154c2f295dbf164",
   "metadata": {
    "ExecuteTime": {
     "end_time": "2025-07-03T02:52:14.212145Z",
     "start_time": "2025-07-03T02:52:14.199102Z"
    }
   },
   "outputs": [],
   "source": [
    "class UADFVFrameDataset(Dataset):\n",
    "    def __init__(self, root_dir, transform=None):\n",
    "        self.samples = []\n",
    "        self.transform = transform\n",
    "\n",
    "        for label, class_name in enumerate(['real', 'fake']):\n",
    "            class_path = os.path.join(root_dir, class_name, 'frames')\n",
    "            video_folders = glob.glob(os.path.join(class_path, '*'))\n",
    "\n",
    "            for folder in video_folders:\n",
    "                for img_path in glob.glob(os.path.join(folder, '*.png')):\n",
    "                    self.samples.append((img_path, label))\n",
    "\n",
    "    def __len__(self):\n",
    "        return len(self.samples)\n",
    "\n",
    "    def __getitem__(self, idx):\n",
    "        img_path, label = self.samples[idx]\n",
    "        img = Image.open(img_path).convert('RGB')\n",
    "        if self.transform:\n",
    "            img = self.transform(img)\n",
    "        return img, label"
   ]
  },
  {
   "cell_type": "code",
   "execution_count": 11,
   "id": "c071a2ee2edf7a65",
   "metadata": {
    "ExecuteTime": {
     "end_time": "2025-07-03T02:52:15.625634Z",
     "start_time": "2025-07-03T02:52:15.613986Z"
    }
   },
   "outputs": [],
   "source": [
    "class DFTIMITFrameDataset(Dataset):\n",
    "    def __init__(self, root_dir, transform=None):\n",
    "        self.samples = []\n",
    "        self.transform = transform\n",
    "\n",
    "        for label, class_name in enumerate(['real', 'fake']):\n",
    "            class_path = os.path.join(root_dir, class_name)\n",
    "            video_folders = glob.glob(os.path.join(class_path, '*'))\n",
    "\n",
    "            for folder in video_folders:\n",
    "                for img_path in glob.glob(os.path.join(folder, '*.png')):\n",
    "                    self.samples.append((img_path, label))\n",
    "\n",
    "    def __len__(self):\n",
    "        return len(self.samples)\n",
    "\n",
    "    def __getitem__(self, idx):\n",
    "        img_path, label = self.samples[idx]\n",
    "        img = Image.open(img_path).convert('RGB')\n",
    "        if self.transform:\n",
    "            img = self.transform(img)\n",
    "        return img, label\n"
   ]
  },
  {
   "cell_type": "code",
   "execution_count": 41,
   "id": "2d7dae8c0002307c",
   "metadata": {
    "ExecuteTime": {
     "end_time": "2025-07-03T06:25:40.690418Z",
     "start_time": "2025-07-03T06:25:40.665204Z"
    }
   },
   "outputs": [],
   "source": [
    "import os\n",
    "import cv2\n",
    "import glob\n",
    "from tqdm import tqdm\n",
    "\n",
    "def extract_frames_from_videos(video_dir, output_dir, fps=1):\n",
    "    os.makedirs(output_dir, exist_ok=True)\n",
    "    video_files = glob.glob(os.path.join(video_dir, '*.mp4'))  # ✅ Correct usage\n",
    "\n",
    "    for video_path in tqdm(video_files, desc=\"Extracting frames\"):\n",
    "        video_name = os.path.splitext(os.path.basename(video_path))[0]\n",
    "        frame_output_dir = os.path.join(output_dir, video_name)\n",
    "        os.makedirs(frame_output_dir, exist_ok=True)\n",
    "\n",
    "        cap = cv2.VideoCapture(video_path)\n",
    "        frame_rate = cap.get(cv2.CAP_PROP_FPS)\n",
    "        frame_interval = int(frame_rate // fps) if fps < frame_rate else 1\n",
    "\n",
    "        frame_count = 0\n",
    "        saved_count = 0\n",
    "        while cap.isOpened():\n",
    "            ret, frame = cap.read()\n",
    "            if not ret:\n",
    "                break\n",
    "            if frame_count % frame_interval == 0:\n",
    "                out_path = os.path.join(frame_output_dir, f\"{saved_count:04d}.png\")\n",
    "                cv2.imwrite(out_path, frame)\n",
    "                saved_count += 1\n",
    "            frame_count += 1\n",
    "        cap.release()"
   ]
  },
  {
   "cell_type": "code",
   "execution_count": 30,
   "id": "a782d3a3b1ce0d63",
   "metadata": {
    "ExecuteTime": {
     "end_time": "2025-07-03T05:03:11.629042Z",
     "start_time": "2025-07-03T04:58:06.935154Z"
    }
   },
   "outputs": [
    {
     "name": "stderr",
     "output_type": "stream",
     "text": [
      "Extracting frames: 100%|██████████| 50/50 [02:48<00:00,  3.37s/it]\n",
      "Extracting frames: 100%|██████████| 50/50 [02:16<00:00,  2.73s/it]\n"
     ]
    }
   ],
   "source": [
    "# Example for Deepfakes/c40\n",
    "extract_frames_from_videos(\n",
    "    video_dir='E:/PythonProject/FaceForensics++/manipulated_sequences/Deepfakes/c40/videos',\n",
    "    output_dir='E:/PythonProject/FaceForensics++/manipulated_sequences/Deepfakes/c40/frames',\n",
    "    fps=1\n",
    ")\n",
    "\n",
    "# Similarly extract real/original videos\n",
    "extract_frames_from_videos(\n",
    "    video_dir='E:/PythonProject/FaceForensics++/original_sequences/youtube/c40/videos',\n",
    "    output_dir='E:/PythonProject/FaceForensics++/original_sequences/youtube/c40/frames',\n",
    "    fps=1\n",
    ")\n"
   ]
  },
  {
   "cell_type": "code",
   "execution_count": 31,
   "id": "a5d9e30e5d9f5fc",
   "metadata": {
    "ExecuteTime": {
     "end_time": "2025-07-03T05:04:31.598695Z",
     "start_time": "2025-07-03T05:04:31.588205Z"
    }
   },
   "outputs": [],
   "source": [
    "class FaceForensicsDataset(Dataset):\n",
    "    def __init__(self, root_dir, method='Deepfakes', compression='c40', transform=None):\n",
    "        self.samples = []\n",
    "        self.transform = transform\n",
    "\n",
    "        # Real frames\n",
    "        real_path = os.path.join(root_dir, 'original_sequences', 'youtube', compression, 'frames')\n",
    "        real_video_dirs = glob.glob(os.path.join(real_path, '*'))\n",
    "        for folder in real_video_dirs:\n",
    "            for img_path in glob.glob(os.path.join(folder, '*.png')):\n",
    "                self.samples.append((img_path, 0))\n",
    "\n",
    "        # Fake frames\n",
    "        fake_path = os.path.join(root_dir, 'manipulated_sequences', method, compression, 'frames')\n",
    "        fake_video_dirs = glob.glob(os.path.join(fake_path, '*'))\n",
    "        for folder in fake_video_dirs:\n",
    "            for img_path in glob.glob(os.path.join(folder, '*.png')):\n",
    "                self.samples.append((img_path, 1))\n",
    "\n",
    "    def __len__(self):\n",
    "        return len(self.samples)\n",
    "\n",
    "    def __getitem__(self, idx):\n",
    "        img_path, label = self.samples[idx]\n",
    "        img = Image.open(img_path).convert('RGB')\n",
    "        if self.transform:\n",
    "            img = self.transform(img)\n",
    "        return img, label\n"
   ]
  },
  {
   "cell_type": "code",
   "execution_count": 13,
   "id": "8fdaf2a0dfd5597d",
   "metadata": {
    "ExecuteTime": {
     "end_time": "2025-07-03T02:52:18.347319Z",
     "start_time": "2025-07-03T02:52:18.334320Z"
    }
   },
   "outputs": [],
   "source": [
    "train_transform = transforms.Compose([\n",
    "    transforms.Resize((256, 256)),\n",
    "    transforms.RandomHorizontalFlip(p=0.5),\n",
    "    transforms.ColorJitter(brightness=0.2, contrast=0.2, saturation=0.2, hue=0.1),\n",
    "    transforms.RandomRotation(10),\n",
    "    transforms.ToTensor(),\n",
    "    transforms.Normalize(mean=[0.485, 0.456, 0.406], std=[0.229, 0.224, 0.225])\n",
    "])\n",
    "\n",
    "eval_transform = transforms.Compose([\n",
    "    transforms.Resize((256, 256)),\n",
    "    transforms.ToTensor(),\n",
    "    transforms.Normalize(mean=[0.485, 0.456, 0.406], std=[0.229, 0.224, 0.225])\n",
    "])\n"
   ]
  },
  {
   "cell_type": "code",
   "execution_count": 14,
   "id": "f1952c42681a9600",
   "metadata": {
    "ExecuteTime": {
     "end_time": "2025-07-03T02:52:19.921070Z",
     "start_time": "2025-07-03T02:52:19.910070Z"
    }
   },
   "outputs": [],
   "source": [
    "\n",
    "import torch.nn.functional as F\n",
    "from torchvision.models import resnet18\n",
    "from timm.models import create_model\n",
    "\n",
    "class FFDModel(nn.Module):\n",
    "    def __init__(self):\n",
    "        super(FFDModel, self).__init__()\n",
    "        self.backbone = create_model('xception', pretrained=True, num_classes=0, global_pool='')\n",
    "\n",
    "        self.attention = nn.Sequential(\n",
    "            nn.Conv2d(2048, 256, kernel_size=1),\n",
    "            nn.ReLU(),\n",
    "            nn.Conv2d(256, 1, kernel_size=1),\n",
    "            nn.Sigmoid()\n",
    "        )\n",
    "\n",
    "        self.fc = nn.Sequential(\n",
    "            nn.AdaptiveAvgPool2d(1),\n",
    "            nn.Flatten(),\n",
    "            nn.Linear(2048, 1),\n",
    "            nn.Sigmoid()\n",
    "        )\n",
    "\n",
    "    def forward(self, x):\n",
    "        features = self.backbone.forward_features(x)  # [B, 2048, H, W]\n",
    "        attention_map = self.attention(features)  # [B, 1, H, W]\n",
    "        attended_features = features * attention_map\n",
    "        out = self.fc(attended_features)\n",
    "        return out, attention_map\n"
   ]
  },
  {
   "cell_type": "code",
   "execution_count": 15,
   "id": "ce7a9c03fac7ef69",
   "metadata": {
    "ExecuteTime": {
     "end_time": "2025-07-03T02:52:21.376832Z",
     "start_time": "2025-07-03T02:52:21.365833Z"
    }
   },
   "outputs": [],
   "source": [
    "def train_model(dataset, name):\n",
    "    device = torch.device(\"cuda\" if torch.cuda.is_available() else \"cpu\")\n",
    "    model = MultiAttentionModel().to(device)\n",
    "    optimizer = torch.optim.Adam(model.parameters(), lr=0.0001)\n",
    "    criterion = nn.BCELoss()\n",
    "\n",
    "    dataset_size = len(dataset)\n",
    "    train_size = int(0.6 * dataset_size)\n",
    "    val_size = int(0.2 * dataset_size)\n",
    "    test_size = dataset_size - train_size - val_size\n",
    "\n",
    "    train_dataset, val_dataset, test_dataset = torch.utils.data.random_split(\n",
    "        dataset, [train_size, val_size, test_size],\n",
    "        generator=torch.Generator().manual_seed(42)\n",
    "    )\n",
    "\n",
    "    train_dataset.dataset.transform = train_transform\n",
    "    val_dataset.dataset.transform = eval_transform\n",
    "    test_dataset.dataset.transform = eval_transform\n",
    "\n",
    "    train_loader = DataLoader(train_dataset, batch_size=75, shuffle=True)\n",
    "    test_loader = DataLoader(test_dataset, batch_size=75, shuffle=False)\n",
    "\n",
    "    def train_epoch():\n",
    "        model.train()\n",
    "        total_loss = 0\n",
    "        for images, labels in tqdm(train_loader):\n",
    "            images, labels = images.to(device), labels.float().to(device)\n",
    "            preds = model(images)\n",
    "            loss = criterion(preds, labels)\n",
    "            optimizer.zero_grad()\n",
    "            loss.backward()\n",
    "            optimizer.step()\n",
    "            total_loss += loss.item() * images.size(0)\n",
    "        return total_loss / len(train_loader.dataset)\n",
    "\n",
    "    for epoch in range(5):\n",
    "        loss = train_epoch()\n",
    "        print(f\"Epoch {epoch+1}: Loss = {loss:.4f}\")\n",
    "\n",
    "    os.makedirs(f\"saved_models/{name}\", exist_ok=True)\n",
    "    torch.save(model.state_dict(), f\"saved_models/{name}/model.pth\")\n",
    "    return model, test_loader\n"
   ]
  },
  {
   "cell_type": "code",
   "execution_count": 16,
   "id": "b0a8496c00c1a7e1",
   "metadata": {
    "ExecuteTime": {
     "end_time": "2025-07-03T02:52:22.794107Z",
     "start_time": "2025-07-03T02:52:22.783127Z"
    }
   },
   "outputs": [
    {
     "name": "stdout",
     "output_type": "stream",
     "text": [
      "✅ GPU is available: NVIDIA GeForce RTX 3080 Ti Laptop GPU\n"
     ]
    }
   ],
   "source": [
    "import torch\n",
    "\n",
    "if torch.cuda.is_available():\n",
    "    print(\"✅ GPU is available:\", torch.cuda.get_device_name(0))\n",
    "else:\n",
    "    print(\"❌ GPU is not available. Using CPU.\")"
   ]
  },
  {
   "cell_type": "code",
   "execution_count": 17,
   "id": "80adc75ca3a9410",
   "metadata": {
    "ExecuteTime": {
     "end_time": "2025-07-03T02:52:24.796940Z",
     "start_time": "2025-07-03T02:52:24.783943Z"
    }
   },
   "outputs": [],
   "source": [
    "def evaluate_model(model, test_loader):\n",
    "    model.eval()\n",
    "    all_labels = []\n",
    "    all_preds = []\n",
    "    device = torch.device(\"cuda\" if torch.cuda.is_available() else \"cpu\")\n",
    "\n",
    "    with torch.no_grad():\n",
    "        for images, labels in test_loader:\n",
    "            images = images.to(device)\n",
    "            preds = model(images)\n",
    "            all_preds.extend(preds.cpu().numpy())\n",
    "            all_labels.extend(labels.numpy())\n",
    "\n",
    "    auc = roc_auc_score(all_labels, all_preds)\n",
    "    print(f\"Test AUC: {auc:.4f}\")\n",
    "\n",
    "    fpr, tpr, _ = roc_curve(all_labels, all_preds)\n",
    "    plt.figure(figsize=(6, 4))\n",
    "    plt.plot(fpr, tpr, label=f'Test AUC = {auc:.4f}')\n",
    "    plt.plot([0, 1], [0, 1], 'k--')\n",
    "    plt.xlabel('False Positive Rate')\n",
    "    plt.ylabel('True Positive Rate')\n",
    "    plt.title('ROC Curve on Test Set')\n",
    "    plt.legend()\n",
    "    plt.grid(True)\n",
    "    plt.show()"
   ]
  },
  {
   "cell_type": "code",
   "execution_count": 36,
   "id": "d53e67cc523ac03d",
   "metadata": {
    "ExecuteTime": {
     "end_time": "2025-07-03T06:22:05.268858Z",
     "start_time": "2025-07-03T05:54:31.658405Z"
    }
   },
   "outputs": [
    {
     "name": "stderr",
     "output_type": "stream",
     "text": [
      "E:\\PythonProject\\.venv\\lib\\site-packages\\timm\\models\\_factory.py:138: UserWarning: Mapping deprecated model name tf_efficientnet_b4_ns to current tf_efficientnet_b4.ns_jft_in1k.\n",
      "  model = create_fn(\n",
      "100%|██████████| 25/25 [05:53<00:00, 14.13s/it]\n"
     ]
    },
    {
     "name": "stdout",
     "output_type": "stream",
     "text": [
      "Epoch 1: Loss = 0.5148\n"
     ]
    },
    {
     "name": "stderr",
     "output_type": "stream",
     "text": [
      "100%|██████████| 25/25 [05:39<00:00, 13.57s/it]\n"
     ]
    },
    {
     "name": "stdout",
     "output_type": "stream",
     "text": [
      "Epoch 2: Loss = 0.0638\n"
     ]
    },
    {
     "name": "stderr",
     "output_type": "stream",
     "text": [
      "100%|██████████| 25/25 [05:23<00:00, 12.95s/it]\n"
     ]
    },
    {
     "name": "stdout",
     "output_type": "stream",
     "text": [
      "Epoch 3: Loss = 0.0338\n"
     ]
    },
    {
     "name": "stderr",
     "output_type": "stream",
     "text": [
      "100%|██████████| 25/25 [05:40<00:00, 13.60s/it]\n"
     ]
    },
    {
     "name": "stdout",
     "output_type": "stream",
     "text": [
      "Epoch 4: Loss = 0.0245\n"
     ]
    },
    {
     "name": "stderr",
     "output_type": "stream",
     "text": [
      "100%|██████████| 25/25 [04:55<00:00, 11.83s/it]\n"
     ]
    },
    {
     "name": "stdout",
     "output_type": "stream",
     "text": [
      "Epoch 5: Loss = 0.0193\n"
     ]
    }
   ],
   "source": [
    "data = UADFVFrameDataset(\"E:/PythonProject/UADFV\")\n",
    "model, test_loader = train_model(data, \"UADFV\")"
   ]
  },
  {
   "cell_type": "code",
   "execution_count": 38,
   "id": "eb2f5c871dcdd23c",
   "metadata": {
    "ExecuteTime": {
     "end_time": "2025-07-03T06:22:51.364794Z",
     "start_time": "2025-07-03T06:22:18.778881Z"
    }
   },
   "outputs": [
    {
     "name": "stdout",
     "output_type": "stream",
     "text": [
      "Test AUC: 0.9993\n"
     ]
    },
    {
     "data": {
      "image/png": "[encoded data removed]",
      "text/plain": [
       "<Figure size 600x400 with 1 Axes>"
      ]
     },
     "metadata": {},
     "output_type": "display_data"
    }
   ],
   "source": [
    "evaluate_model(model,test_loader)"
   ]
  },
  {
   "cell_type": "code",
   "execution_count": 34,
   "id": "b74dde7141ecaa35",
   "metadata": {
    "ExecuteTime": {
     "end_time": "2025-07-03T05:21:17.418829Z",
     "start_time": "2025-07-03T05:05:32.731591Z"
    }
   },
   "outputs": [
    {
     "name": "stdout",
     "output_type": "stream",
     "text": [
      "Loaded 1752 images\n"
     ]
    },
    {
     "name": "stderr",
     "output_type": "stream",
     "text": [
      "100%|██████████| 15/15 [03:24<00:00, 13.64s/it]\n"
     ]
    },
    {
     "name": "stdout",
     "output_type": "stream",
     "text": [
      "Epoch 1: Loss = 0.6937\n"
     ]
    },
    {
     "name": "stderr",
     "output_type": "stream",
     "text": [
      "100%|██████████| 15/15 [03:04<00:00, 12.31s/it]\n"
     ]
    },
    {
     "name": "stdout",
     "output_type": "stream",
     "text": [
      "Epoch 2: Loss = 0.6806\n"
     ]
    },
    {
     "name": "stderr",
     "output_type": "stream",
     "text": [
      "100%|██████████| 15/15 [03:06<00:00, 12.44s/it]\n"
     ]
    },
    {
     "name": "stdout",
     "output_type": "stream",
     "text": [
      "Epoch 3: Loss = 0.5710\n"
     ]
    },
    {
     "name": "stderr",
     "output_type": "stream",
     "text": [
      "100%|██████████| 15/15 [03:03<00:00, 12.24s/it]\n"
     ]
    },
    {
     "name": "stdout",
     "output_type": "stream",
     "text": [
      "Epoch 4: Loss = 0.2939\n"
     ]
    },
    {
     "name": "stderr",
     "output_type": "stream",
     "text": [
      "100%|██████████| 15/15 [03:03<00:00, 12.25s/it]\n"
     ]
    },
    {
     "name": "stdout",
     "output_type": "stream",
     "text": [
      "Epoch 5: Loss = 0.1713\n"
     ]
    }
   ],
   "source": [
    "data = FaceForensicsDataset(\n",
    "    root_dir=\"E:/PythonProject/FaceForensics++\",\n",
    "    method='Deepfakes',\n",
    "    compression='c40'\n",
    ")\n",
    "print(\"Loaded\", len(data), \"images\")\n",
    "model, test_loader = train_model(data, \"FFPP_Deepfakes_c40\")\n"
   ]
  },
  {
   "cell_type": "code",
   "execution_count": 35,
   "id": "e89f834a7e628aa0",
   "metadata": {
    "ExecuteTime": {
     "end_time": "2025-07-03T05:36:57.089864Z",
     "start_time": "2025-07-03T05:36:24.698679Z"
    }
   },
   "outputs": [
    {
     "name": "stdout",
     "output_type": "stream",
     "text": [
      "Test AUC: 0.9531\n"
     ]
    },
    {
     "data": {
      "image/png": "[encoded data removed]",
      "text/plain": [
       "<Figure size 600x400 with 1 Axes>"
      ]
     },
     "metadata": {},
     "output_type": "display_data"
    }
   ],
   "source": [
    "evaluate_model(model,test_loader)"
   ]
  },
  {
   "cell_type": "code",
   "execution_count": 42,
   "id": "5d100f8234c730e0",
   "metadata": {
    "ExecuteTime": {
     "end_time": "2025-07-03T06:29:13.585073Z",
     "start_time": "2025-07-03T06:26:02.818440Z"
    }
   },
   "outputs": [
    {
     "name": "stderr",
     "output_type": "stream",
     "text": [
      "Extracting frames: 100%|██████████| 50/50 [03:10<00:00,  3.81s/it]\n"
     ]
    }
   ],
   "source": [
    "extract_frames_from_videos(\n",
    "    video_dir='E:/PythonProject/FaceForensics++/manipulated_sequences/Face2Face/c40/videos',\n",
    "    output_dir='E:/PythonProject/FaceForensics++/manipulated_sequences/Face2Face/c40/frames',\n",
    "    fps=1\n",
    ")"
   ]
  },
  {
   "cell_type": "code",
   "execution_count": 44,
   "id": "3dea6fd2d1c5dd89",
   "metadata": {
    "ExecuteTime": {
     "end_time": "2025-07-03T06:59:19.502580Z",
     "start_time": "2025-07-03T06:38:54.857443Z"
    }
   },
   "outputs": [
    {
     "name": "stdout",
     "output_type": "stream",
     "text": [
      "Loaded 1807 images\n"
     ]
    },
    {
     "name": "stderr",
     "output_type": "stream",
     "text": [
      "100%|██████████| 15/15 [03:28<00:00, 13.91s/it]\n"
     ]
    },
    {
     "name": "stdout",
     "output_type": "stream",
     "text": [
      "Epoch 1: Loss = 0.6891\n"
     ]
    },
    {
     "name": "stderr",
     "output_type": "stream",
     "text": [
      "100%|██████████| 15/15 [03:54<00:00, 15.64s/it]\n"
     ]
    },
    {
     "name": "stdout",
     "output_type": "stream",
     "text": [
      "Epoch 2: Loss = 0.6450\n"
     ]
    },
    {
     "name": "stderr",
     "output_type": "stream",
     "text": [
      "100%|██████████| 15/15 [04:34<00:00, 18.32s/it]\n"
     ]
    },
    {
     "name": "stdout",
     "output_type": "stream",
     "text": [
      "Epoch 3: Loss = 0.5675\n"
     ]
    },
    {
     "name": "stderr",
     "output_type": "stream",
     "text": [
      "100%|██████████| 15/15 [04:54<00:00, 19.64s/it]\n"
     ]
    },
    {
     "name": "stdout",
     "output_type": "stream",
     "text": [
      "Epoch 4: Loss = 0.4829\n"
     ]
    },
    {
     "name": "stderr",
     "output_type": "stream",
     "text": [
      "100%|██████████| 15/15 [03:29<00:00, 13.98s/it]\n"
     ]
    },
    {
     "name": "stdout",
     "output_type": "stream",
     "text": [
      "Epoch 5: Loss = 0.3916\n"
     ]
    }
   ],
   "source": [
    "data = FaceForensicsDataset(\n",
    "    root_dir=\"E:/PythonProject/FaceForensics++\",\n",
    "    method='Face2Face',\n",
    "    compression='c40'\n",
    ")\n",
    "print(\"Loaded\", len(data), \"images\")\n",
    "model, test_loader = train_model(data, \"FFPP_Face2Face_c40\")"
   ]
  },
  {
   "cell_type": "code",
   "execution_count": 45,
   "id": "339825c7b7a6b4ff",
   "metadata": {
    "ExecuteTime": {
     "end_time": "2025-07-03T07:38:13.558927Z",
     "start_time": "2025-07-03T07:37:41.400016Z"
    }
   },
   "outputs": [
    {
     "name": "stdout",
     "output_type": "stream",
     "text": [
      "Test AUC: 0.7165\n"
     ]
    },
    {
     "data": {
      "image/png": "[encoded data removed]",
      "text/plain": [
       "<Figure size 600x400 with 1 Axes>"
      ]
     },
     "metadata": {},
     "output_type": "display_data"
    }
   ],
   "source": [
    "evaluate_model(model,test_loader)"
   ]
  },
  {
   "cell_type": "code",
   "execution_count": 46,
   "id": "e59c28ca2ee9a28a",
   "metadata": {
    "ExecuteTime": {
     "end_time": "2025-07-03T07:41:11.052711Z",
     "start_time": "2025-07-03T07:38:13.594933Z"
    }
   },
   "outputs": [
    {
     "name": "stderr",
     "output_type": "stream",
     "text": [
      "Extracting frames: 100%|██████████| 50/50 [02:57<00:00,  3.55s/it]\n"
     ]
    }
   ],
   "source": [
    "extract_frames_from_videos(\n",
    "    video_dir='E:/PythonProject/FaceForensics++/manipulated_sequences/FaceShifter/c40/videos',\n",
    "    output_dir='E:/PythonProject/FaceForensics++/manipulated_sequences/FaceShifter/c40/frames',\n",
    "    fps=1\n",
    ")"
   ]
  },
  {
   "cell_type": "code",
   "execution_count": 47,
   "id": "807e3ad0588bb26d",
   "metadata": {
    "ExecuteTime": {
     "end_time": "2025-07-03T07:57:04.091922Z",
     "start_time": "2025-07-03T07:41:11.227835Z"
    }
   },
   "outputs": [
    {
     "name": "stdout",
     "output_type": "stream",
     "text": [
      "Loaded 1758 images\n"
     ]
    },
    {
     "name": "stderr",
     "output_type": "stream",
     "text": [
      "E:\\PythonProject\\.venv\\lib\\site-packages\\timm\\models\\_factory.py:138: UserWarning: Mapping deprecated model name tf_efficientnet_b4_ns to current tf_efficientnet_b4.ns_jft_in1k.\n",
      "  model = create_fn(\n",
      "100%|██████████| 15/15 [03:18<00:00, 13.21s/it]\n"
     ]
    },
    {
     "name": "stdout",
     "output_type": "stream",
     "text": [
      "Epoch 1: Loss = 0.6951\n"
     ]
    },
    {
     "name": "stderr",
     "output_type": "stream",
     "text": [
      "100%|██████████| 15/15 [03:08<00:00, 12.55s/it]\n"
     ]
    },
    {
     "name": "stdout",
     "output_type": "stream",
     "text": [
      "Epoch 2: Loss = 0.6849\n"
     ]
    },
    {
     "name": "stderr",
     "output_type": "stream",
     "text": [
      "100%|██████████| 15/15 [03:08<00:00, 12.55s/it]\n"
     ]
    },
    {
     "name": "stdout",
     "output_type": "stream",
     "text": [
      "Epoch 3: Loss = 0.6545\n"
     ]
    },
    {
     "name": "stderr",
     "output_type": "stream",
     "text": [
      "100%|██████████| 15/15 [03:08<00:00, 12.54s/it]\n"
     ]
    },
    {
     "name": "stdout",
     "output_type": "stream",
     "text": [
      "Epoch 4: Loss = 0.5663\n"
     ]
    },
    {
     "name": "stderr",
     "output_type": "stream",
     "text": [
      "100%|██████████| 15/15 [03:08<00:00, 12.54s/it]\n"
     ]
    },
    {
     "name": "stdout",
     "output_type": "stream",
     "text": [
      "Epoch 5: Loss = 0.4241\n"
     ]
    }
   ],
   "source": [
    "data = FaceForensicsDataset(\n",
    "    root_dir=\"E:/PythonProject/FaceForensics++\",\n",
    "    method='FaceShifter',\n",
    "    compression='c40'\n",
    ")\n",
    "print(\"Loaded\", len(data), \"images\")\n",
    "model, test_loader = train_model(data, \"FFPP_FaceShifter_c40\")"
   ]
  },
  {
   "cell_type": "code",
   "execution_count": 48,
   "id": "6912f613acb80ad8",
   "metadata": {
    "ExecuteTime": {
     "end_time": "2025-07-03T07:57:33.070915Z",
     "start_time": "2025-07-03T07:57:04.205411Z"
    }
   },
   "outputs": [
    {
     "name": "stdout",
     "output_type": "stream",
     "text": [
      "Test AUC: 0.8845\n"
     ]
    },
    {
     "data": {
      "image/png": "[encoded data removed]",
      "text/plain": [
       "<Figure size 600x400 with 1 Axes>"
      ]
     },
     "metadata": {},
     "output_type": "display_data"
    }
   ],
   "source": [
    "evaluate_model(model,test_loader)"
   ]
  },
  {
   "cell_type": "code",
   "execution_count": null,
   "id": "ab952431bf9d41a8",
   "metadata": {},
   "outputs": [],
   "source": []
  }
 ],
 "metadata": {
  "kernelspec": {
   "display_name": "Python 3",
   "language": "python",
   "name": "python3"
  },
  "language_info": {
   "codemirror_mode": {
    "name": "ipython",
    "version": 2
   },
   "file_extension": ".py",
   "mimetype": "text/x-python",
   "name": "python",
   "nbconvert_exporter": "python",
   "pygments_lexer": "ipython2",
   "version": "2.7.6"
  }
 },
 "nbformat": 4,
 "nbformat_minor": 5
}
